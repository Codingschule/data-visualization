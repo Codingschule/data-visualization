{
 "cells": [
  {
   "cell_type": "markdown",
   "metadata": {
    "slideshow": {
     "slide_type": "slide"
    }
   },
   "source": [
    "# Einstieg in Matplotlib\n",
    "Datenvisualisierung mit der Bibliothek Matplotlib"
   ]
  },
  {
   "cell_type": "markdown",
   "metadata": {
    "slideshow": {
     "slide_type": "slide"
    }
   },
   "source": [
    "# Was ist Matplotlib?\n",
    "\n",
    "- erweiterbare Plotting-Bibliothek für Python\n",
    "> Matplotlib tries to make easy things easy and hard things possible\n",
    "- angelehnt an die Programmiersprache MATLAB\n",
    "- Ermöglicht es (interaktive) komplexe Visualisierungen zu erstellen"
   ]
  },
  {
   "cell_type": "markdown",
   "metadata": {
    "slideshow": {
     "slide_type": "subslide"
    }
   },
   "source": [
    "# Beispiele\n",
    "\n",
    "https://matplotlib.org/gallery.html"
   ]
  },
  {
   "cell_type": "markdown",
   "metadata": {
    "slideshow": {
     "slide_type": "slide"
    }
   },
   "source": [
    "# Plot-Typen\n",
    "\n",
    "- Matplotlib beherrscht alle (bekannten) Formen von Plots\n",
    "- Wir beschränken uns heute auf einfache Plots:\n",
    "    - Scatter-, Line-, Bar-, Pie-, Box-Plots\n",
    "    "
   ]
  },
  {
   "cell_type": "markdown",
   "metadata": {
    "slideshow": {
     "slide_type": "subslide"
    }
   },
   "source": [
    "# Daten anlegen/vorbereiten\n",
    "\n",
    "- Damit wir etwas visualisieren können brauchen wir Daten\n",
    "    - Für heute: Listen und .csv-Dateien"
   ]
  },
  {
   "cell_type": "code",
   "execution_count": 3,
   "metadata": {
    "slideshow": {
     "slide_type": "fragment"
    }
   },
   "outputs": [
    {
     "name": "stdout",
     "output_type": "stream",
     "text": [
      "[0, 1, 2, 3, 4, 5, 6, 7, 8, 9, 10, 11, 12, 13, 14, 15, 16, 17, 18, 19, 20, 21, 22, 23, 24, 25, 26]\n"
     ]
    }
   ],
   "source": [
    "y = [i for i in range(20,100,3)]\n",
    "x = [i for i in range(len(y))]\n",
    "print(x)"
   ]
  },
  {
   "cell_type": "markdown",
   "metadata": {
    "slideshow": {
     "slide_type": "subslide"
    }
   },
   "source": [
    "# Scatter-Plot"
   ]
  },
  {
   "cell_type": "code",
   "execution_count": 4,
   "metadata": {
    "slideshow": {
     "slide_type": "fragment"
    }
   },
   "outputs": [
    {
     "name": "stdout",
     "output_type": "stream",
     "text": [
      "Using matplotlib backend: TkAgg\n"
     ]
    }
   ],
   "source": [
    "%matplotlib\n",
    "#y = [i for i in range(20,100,3)]\n",
    "#x = [i for i in range(len(y))]\n",
    "import matplotlib.pyplot as plot\n",
    "plot.scatter(x,y)\n",
    "plot.show()"
   ]
  },
  {
   "cell_type": "markdown",
   "metadata": {
    "slideshow": {
     "slide_type": "subslide"
    }
   },
   "source": [
    "# Klassischer Linien-Plot"
   ]
  },
  {
   "cell_type": "code",
   "execution_count": 5,
   "metadata": {
    "slideshow": {
     "slide_type": "fragment"
    }
   },
   "outputs": [
    {
     "name": "stdout",
     "output_type": "stream",
     "text": [
      "Using matplotlib backend: TkAgg\n"
     ]
    }
   ],
   "source": [
    "%matplotlib\n",
    "#y = [i for i in range(20,100,3)]\n",
    "#x = [i for i in range(len(y))]\n",
    "import matplotlib.pyplot as plot\n",
    "plot.plot(x,y)\n",
    "plot.show()"
   ]
  },
  {
   "cell_type": "markdown",
   "metadata": {
    "slideshow": {
     "slide_type": "subslide"
    }
   },
   "source": [
    "# Balken-Plot"
   ]
  },
  {
   "cell_type": "code",
   "execution_count": 6,
   "metadata": {
    "slideshow": {
     "slide_type": "fragment"
    }
   },
   "outputs": [],
   "source": [
    "import matplotlib.pyplot as plot\n",
    "#y = [i for i in range(20,100,3)]\n",
    "#x = [i for i in range(len(y))]\n",
    "plot.bar(x,y)\n",
    "plot.show() "
   ]
  },
  {
   "cell_type": "markdown",
   "metadata": {
    "slideshow": {
     "slide_type": "subslide"
    }
   },
   "source": [
    "# Tortendiagramm"
   ]
  },
  {
   "cell_type": "code",
   "execution_count": 7,
   "metadata": {
    "slideshow": {
     "slide_type": "fragment"
    }
   },
   "outputs": [],
   "source": [
    "import matplotlib.pyplot as plot\n",
    "#y = [i for i in range(20,100,3)]\n",
    "#x = [i for i in range(len(y))]\n",
    "plot.pie(x)\n",
    "plot.show()"
   ]
  },
  {
   "cell_type": "markdown",
   "metadata": {
    "slideshow": {
     "slide_type": "subslide"
    }
   },
   "source": [
    "# Box-Plot"
   ]
  },
  {
   "cell_type": "code",
   "execution_count": 8,
   "metadata": {
    "slideshow": {
     "slide_type": "fragment"
    }
   },
   "outputs": [
    {
     "name": "stdout",
     "output_type": "stream",
     "text": [
      "Using matplotlib backend: TkAgg\n"
     ]
    },
    {
     "data": {
      "text/plain": [
       "{'boxes': [<matplotlib.lines.Line2D at 0xad92890>],\n",
       " 'caps': [<matplotlib.lines.Line2D at 0x3af3a30>,\n",
       "  <matplotlib.lines.Line2D at 0x3ac91d0>],\n",
       " 'fliers': [<matplotlib.lines.Line2D at 0x3ac93d0>],\n",
       " 'means': [],\n",
       " 'medians': [<matplotlib.lines.Line2D at 0x3ac98f0>],\n",
       " 'whiskers': [<matplotlib.lines.Line2D at 0xad92690>,\n",
       "  <matplotlib.lines.Line2D at 0x3af3ad0>]}"
      ]
     },
     "execution_count": 8,
     "metadata": {},
     "output_type": "execute_result"
    }
   ],
   "source": [
    "%matplotlib\n",
    "#y = [i for i in range(20,100,3)]\n",
    "#x = [i for i in range(len(y))]\n",
    "plot.boxplot(y)"
   ]
  },
  {
   "cell_type": "markdown",
   "metadata": {
    "slideshow": {
     "slide_type": "subslide"
    }
   },
   "source": [
    "# Mehrere Plots in einem Schaubild"
   ]
  },
  {
   "cell_type": "code",
   "execution_count": 9,
   "metadata": {
    "slideshow": {
     "slide_type": "fragment"
    }
   },
   "outputs": [
    {
     "name": "stdout",
     "output_type": "stream",
     "text": [
      "Using matplotlib backend: TkAgg\n"
     ]
    }
   ],
   "source": [
    "%matplotlib\n",
    "#y = [i for i in range(20,100,3)]\n",
    "#x = [i for i in range(len(y))]\n",
    "plot.scatter(x,y)\n",
    "plot.plot(x,y)\n",
    "plot.show()"
   ]
  },
  {
   "cell_type": "markdown",
   "metadata": {
    "slideshow": {
     "slide_type": "slide"
    }
   },
   "source": [
    "# Komplexere Schaubilder\n",
    "- Bisher haben wir einfache Schaubilder gezeigt\n",
    "- Matplotlib erlaubt es, so ziemlich alles an einem Schaubild zu manipulieren\n",
    "#TODO: BILD lokal ablegen\n",
    "<center><img src=\"https://matplotlib.org/_images/anatomy.png\" style=\"height: 35%; width:35%;\"><img></center>"
   ]
  },
  {
   "cell_type": "markdown",
   "metadata": {
    "slideshow": {
     "slide_type": "slide"
    }
   },
   "source": [
    "# Zwischenaufgaben"
   ]
  },
  {
   "cell_type": "markdown",
   "metadata": {
    "slideshow": {
     "slide_type": "subslide"
    }
   },
   "source": [
    "# Beispiel: Zufallszahlen\n",
    "- Modul `random` ermöglicht Erzeugung von Zufallszahlen"
   ]
  },
  {
   "cell_type": "code",
   "execution_count": 25,
   "metadata": {
    "slideshow": {
     "slide_type": "fragment"
    }
   },
   "outputs": [
    {
     "data": {
      "text/plain": [
       "(array([ 56.,  55.,  48.,  72.,  47.,  48.,  52.,  54.,  50.,  53.,  32.,\n",
       "         49.,  34.,  58.,  54.,  39.,  48.,  46.,  53.,  52.]),\n",
       " array([   4.  ,   53.75,  103.5 ,  153.25,  203.  ,  252.75,  302.5 ,\n",
       "         352.25,  402.  ,  451.75,  501.5 ,  551.25,  601.  ,  650.75,\n",
       "         700.5 ,  750.25,  800.  ,  849.75,  899.5 ,  949.25,  999.  ]),\n",
       " <a list of 20 Patch objects>)"
      ]
     },
     "execution_count": 25,
     "metadata": {},
     "output_type": "execute_result"
    }
   ],
   "source": [
    "import random\n",
    "import matplotlib.pyplot as plot\n",
    "thousand_samples = [random.randrange(1,1000) for i in range(1000)]\n",
    "#print(thousand_samples)\n",
    "plot.hist(thousand_samples,bins=20)"
   ]
  },
  {
   "cell_type": "markdown",
   "metadata": {
    "slideshow": {
     "slide_type": "subslide"
    }
   },
   "source": [
    "# Beispiel: Kapitalverzinsung"
   ]
  },
  {
   "cell_type": "code",
   "execution_count": 28,
   "metadata": {
    "slideshow": {
     "slide_type": "fragment"
    }
   },
   "outputs": [
    {
     "name": "stdout",
     "output_type": "stream",
     "text": [
      "[50000.0, 52500.0, 55125.0, 57881.25, 60775.31, 63814.08, 67004.78, 70355.02, 73872.77, 77566.41, 81444.73, 85516.97, 89792.82, 94282.46, 98996.58, 103946.41, 109143.73, 114600.92, 120330.96, 126347.51]\n"
     ]
    }
   ],
   "source": [
    "kapital = 50000\n",
    "zinssatz = 1.05\n",
    "jahre = [i for i in range(0,20)]\n",
    "KapitalNachXJahren = [round(kapital*(zinssatz**jahr),2) for jahr in jahre]\n",
    "print(KapitalNachXJahren)\n",
    "#round(,2)"
   ]
  },
  {
   "cell_type": "code",
   "execution_count": 29,
   "metadata": {
    "slideshow": {
     "slide_type": "subslide"
    }
   },
   "outputs": [
    {
     "name": "stdout",
     "output_type": "stream",
     "text": [
      "Using matplotlib backend: TkAgg\n"
     ]
    },
    {
     "data": {
      "text/plain": [
       "<matplotlib.text.Text at 0x2a2a4b0>"
      ]
     },
     "execution_count": 29,
     "metadata": {},
     "output_type": "execute_result"
    }
   ],
   "source": [
    "%matplotlib\n",
    "import matplotlib.pyplot as plot\n",
    "\n",
    "plot.plot(jahre,KapitalNachXJahren)\n",
    "plot.scatter(jahre, KapitalNachXJahren)\n",
    "plot.xticks(jahre)#Achsen-Tick-Beschriftung\n",
    "\n",
    "plot.xlabel(\"Anzahl Jahre\") #X-Achsen-Beschriftung\n",
    "plot.ylabel(\"Kapital\") #Y-Achsen-Beschriftung\n",
    "plot.gca().annotate('Kapital nach 10 Jahren', xy=(10,KapitalNachXJahren[10]), xytext=(10, KapitalNachXJahren[9]-10000),\n",
    "            arrowprops=dict(facecolor='red', shrink=0.25),\n",
    "            )\n",
    "plot.title(\"Kapitalverzinsung von 50000€ bei einem Zinssatz von 5%\")"
   ]
  },
  {
   "cell_type": "code",
   "execution_count": null,
   "metadata": {
    "slideshow": {
     "slide_type": "skip"
    }
   },
   "outputs": [],
   "source": []
  }
 ],
 "metadata": {
  "celltoolbar": "Slideshow",
  "kernelspec": {
   "display_name": "Python 3",
   "language": "python",
   "name": "python3"
  },
  "language_info": {
   "codemirror_mode": {
    "name": "ipython",
    "version": 3
   },
   "file_extension": ".py",
   "mimetype": "text/x-python",
   "name": "python",
   "nbconvert_exporter": "python",
   "pygments_lexer": "ipython3",
   "version": "3.6.1"
  },
  "livereveal": {
   "scroll": true,
   "slideNumber": "c/t",
   "theme": "serif"
  }
 },
 "nbformat": 4,
 "nbformat_minor": 2
}
