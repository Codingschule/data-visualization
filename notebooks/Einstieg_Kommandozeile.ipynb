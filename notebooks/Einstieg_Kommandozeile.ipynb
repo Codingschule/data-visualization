{
 "cells": [
  {
   "cell_type": "markdown",
   "metadata": {},
   "source": [
    "# Einführung in die Kommandozeile"
   ]
  },
  {
   "cell_type": "markdown",
   "metadata": {
    "slideshow": {
     "slide_type": "slide"
    }
   },
   "source": [
    "## Was ist die Kommandozeile?\n",
    "- Werkzeug zum textuellen Arbeiten mit dem Computer\n",
    "- Klassische Aufgaben wie etwa..\n",
    "    - Dateien: öffnen, schließen, anlegen, löschen, umbenennen ..\n",
    "    - Durch Verzeichnisse navigieren\n",
    "- ..werden über (Text)befehle umgesetzt (Beispiel: ```pwd```)"
   ]
  },
  {
   "cell_type": "markdown",
   "metadata": {
    "slideshow": {
     "slide_type": "subslide"
    }
   },
   "source": [
    "## Ein kleines Beispiel.."
   ]
  },
  {
   "cell_type": "code",
   "execution_count": 1,
   "metadata": {},
   "outputs": [
    {
     "name": "stdout",
     "output_type": "stream",
     "text": [
      "Einstieg_Kommandozeile.ipynb  Einstieg_Pandas.ipynb\n",
      "Einstieg_Matplotlib.ipynb     Einstieg_Python.ipynb\n"
     ]
    }
   ],
   "source": [
    "%%bash\n",
    "ls -C"
   ]
  },
  {
   "cell_type": "markdown",
   "metadata": {
    "slideshow": {
     "slide_type": "subslide"
    }
   },
   "source": [
    "## Vor- /Nachteile Kommandozeile\n",
    "<div style=\"color:#42f456\">** Vorteile: **</div>\n",
    "- Kann ohne grafische Oberfläche genutzt werden..\n",
    "    - SSH: Wartung/Nutzung von entfernten Rechnern zB. Webserver\n",
    "- \"Mächtigere Befehle\"\n",
    "- Möglichkeit zur Automatisierung (Bash-Scripts)\n"
   ]
  },
  {
   "cell_type": "markdown",
   "metadata": {
    "slideshow": {
     "slide_type": "fragment"
    }
   },
   "source": [
    "<div style=\"color:red\">** Nachteile: **</div>\n",
    "- Anfangs: Höhere Lernkurve\n",
    "- Für kleine Aufgabe (doch) zu umständlich (zB. einzelne Dateien löschen geht grafisch schneller)</p>"
   ]
  },
  {
   "cell_type": "markdown",
   "metadata": {
    "slideshow": {
     "slide_type": "slide"
    }
   },
   "source": [
    "# Navigation\n",
    "- Beim Start befindet sich Kommandozeile in einem \"Startordner\"\n",
    "    - `pwd` public working directory\n",
    "- Wie bei Windows und co. können sie Ordner wechseln..\n",
    "    - `cd Pfadname` , etwa: \"C:\\Users\\Desktop\" oder \"\\home\\pi\"\n",
    "    - `cd ~` wechselt ins HOME-Verzeichnis (je nach Betriebssystem)\n",
    "- `ls` zeigt den Inhalt des aktuellen Ordners an, mit `ls -a` auch Verstecktes"
   ]
  },
  {
   "cell_type": "code",
   "execution_count": 2,
   "metadata": {
    "scrolled": true,
    "slideshow": {
     "slide_type": "-"
    }
   },
   "outputs": [
    {
     "name": "stdout",
     "output_type": "stream",
     "text": [
      "C:/Users/Philipp Steinweg/Desktop/Projekte/data-visualization/notebooks\n"
     ]
    }
   ],
   "source": [
    "%%bash\n",
    "pwd\n",
    "#cd ~\n",
    "#ls -a\n",
    "# \n"
   ]
  },
  {
   "cell_type": "markdown",
   "metadata": {
    "slideshow": {
     "slide_type": "slide"
    }
   },
   "source": [
    "# Mit (Text)dateien arbeiten\n",
    "Unser Trainingsbeispiel heute: *inaugural adresses*\n",
    "- Textdateien aus NLTK, einer Bibliothek zur Sprachverarbeitung in Python\n",
    "- 56 Textdateien , Antrittsrede jeweils eines Präsidenten"
   ]
  },
  {
   "cell_type": "code",
   "execution_count": 15,
   "metadata": {
    "slideshow": {
     "slide_type": "fragment"
    }
   },
   "outputs": [
    {
     "name": "stdout",
     "output_type": "stream",
     "text": [
      "summary.txt  zusammenfassung_washington.txt\n"
     ]
    }
   ],
   "source": [
    "%%bash\n",
    "cd ../datasets/inaugural\n",
    "ls -C"
   ]
  },
  {
   "cell_type": "code",
   "execution_count": 4,
   "metadata": {
    "slideshow": {
     "slide_type": "skip"
    }
   },
   "outputs": [
    {
     "name": "stdout",
     "output_type": "stream",
     "text": [
      "Fellow-Citizens of the Senate and of the House of Representatives:\n",
      "\n",
      "Among the vicissitudes incident "
     ]
    }
   ],
   "source": [
    "%%bash\n",
    "cd \"C:/Users/Philipp Steinweg/AppData/Roaming/nltk_data/corpora/inaugural\"\n",
    "head -c100 \"1789-Washington.txt\""
   ]
  },
  {
   "cell_type": "markdown",
   "metadata": {
    "slideshow": {
     "slide_type": "subslide"
    }
   },
   "source": [
    "## `head` - Einen Überblick verschaffen\n",
    "\n",
    "- `head Dateiname` ermöglicht eine Dateivorschau\n",
    "    - konkrete Datei: `head 1789-Washington.txt` oder Dateimuster: `head *.txt` oder `head 17**.txt`\n",
    "- `-c` beschränkt Übersicht auf n Zeichen\n",
    "    - `head -c140 1789-Washington.txt` zeigt ersten 140 Zeichen"
   ]
  },
  {
   "cell_type": "code",
   "execution_count": 17,
   "metadata": {
    "slideshow": {
     "slide_type": "-"
    }
   },
   "outputs": [
    {
     "name": "stderr",
     "output_type": "stream",
     "text": [
      "head: cannot open '1789-Washington.txt' for reading: No such file or directory\n"
     ]
    }
   ],
   "source": [
    "%%bash\n",
    "cd ../datasets/inaugural\n",
    "head \"1789-Washington.txt\""
   ]
  },
  {
   "cell_type": "markdown",
   "metadata": {
    "slideshow": {
     "slide_type": "subslide"
    }
   },
   "source": [
    "# `>` - Ausgaben in Dateien umleiten\n",
    "\n",
    "- Mit `>` leiten sie Textausgabe in eine Datei um\n",
    "    - Beispiel: `head -c140 1789-Washington.txt > zusammenfassung_washington.txt`\n",
    "    - Befehl leitet die ersten 140 Zeichen der Washington-Rede in neue Datei\n",
    "    "
   ]
  },
  {
   "cell_type": "code",
   "execution_count": 19,
   "metadata": {
    "scrolled": true,
    "slideshow": {
     "slide_type": "fragment"
    }
   },
   "outputs": [
    {
     "name": "stderr",
     "output_type": "stream",
     "text": [
      "head: cannot open '1789-Washington.txt' for reading: No such file or directory\n"
     ]
    }
   ],
   "source": [
    "%%bash\n",
    "cd ../datasets/inaugural  \n",
    "head -c140 \"1789-Washington.txt\" > \"zusammenfassung_washington.txt\""
   ]
  },
  {
   "cell_type": "markdown",
   "metadata": {
    "slideshow": {
     "slide_type": "subslide"
    }
   },
   "source": [
    "# Zwischenaufgabe:\n",
    "1. Lassen sie sich eine Zusammenfassung (~100 Zeichen) aller Reden in eine Datei schreiben\n",
    "2. Öffnen sie die erzeugte Datei mit dem Befehl `nano name-der-datei`"
   ]
  },
  {
   "cell_type": "code",
   "execution_count": 7,
   "metadata": {
    "scrolled": true,
    "slideshow": {
     "slide_type": "fragment"
    }
   },
   "outputs": [
    {
     "name": "stdout",
     "output_type": "stream",
     "text": [
      "summary.txt  zusammenfassung_washington.txt\n"
     ]
    }
   ],
   "source": [
    "%%bash\n",
    "cd \"../datasets/inaugural\"\n",
    "head -c140 *.txt > summary.txt\n",
    "ls -C\n",
    "#nano name-der-datei\n",
    "#----Alternativ----\n",
    "#cat name-der-datei"
   ]
  },
  {
   "cell_type": "markdown",
   "metadata": {
    "slideshow": {
     "slide_type": "slide"
    }
   },
   "source": [
    "## (Text)daten verarbeiten\n",
    "Wir wollen nun einmal tiefer in die Daten schauen...\n",
    "\n",
    "\n",
    "<div style=\"font-size:80px;\"><center><b> Was könnte interessant sein? </b></center></div>"
   ]
  },
  {
   "cell_type": "markdown",
   "metadata": {
    "slideshow": {
     "slide_type": "subslide"
    }
   },
   "source": [
    " # `wc` - Wörter zählen\n",
    " \n",
    "- `wc` gibt #Zeilen, #Zeichen ,#Wörter und den Dateinamen aus\n",
    "    - Beispiel: `wc 1789-Washington.txt` erzeugt `13 1431 8619 1789-Washington.txt`\n",
    "- `wc-c`/`wc -m` (characters) `wc -l` (lines) `wc -w` (words) um Ausgabe zu filtern\n"
   ]
  },
  {
   "cell_type": "code",
   "execution_count": 8,
   "metadata": {
    "slideshow": {
     "slide_type": "fragment"
    }
   },
   "outputs": [
    {
     "name": "stdout",
     "output_type": "stream",
     "text": [
      "Usage: wc [OPTION]... [FILE]...\n",
      "  or:  wc [OPTION]... --files0-from=F\n",
      "Print newline, word, and byte counts for each FILE, and a total line if\n",
      "more than one FILE is specified.  A word is a non-zero-length sequence of\n",
      "characters delimited by white space.\n",
      "\n",
      "With no FILE, or when FILE is -, read standard input.\n",
      "\n",
      "The options below may be used to select which counts are printed, always in\n",
      "the following order: newline, word, character, byte, maximum line length.\n",
      "  -c, --bytes            print the byte counts\n",
      "  -m, --chars            print the character counts\n",
      "  -l, --lines            print the newline counts\n",
      "      --files0-from=F    read input from the files specified by\n",
      "                           NUL-terminated names in file F;\n",
      "                           If F is - then read names from standard input\n",
      "  -L, --max-line-length  print the maximum display width\n",
      "  -w, --words            print the word counts\n",
      "      --help     display this help and exit\n",
      "      --version  output version information and exit\n",
      "\n",
      "GNU coreutils online help: <http://www.gnu.org/software/coreutils/>\n",
      "Report wc translation bugs to <http://translationproject.org/team/>\n",
      "Full documentation at: <http://www.gnu.org/software/coreutils/wc>\n",
      "or available locally via: info '(coreutils) wc invocation'\n"
     ]
    }
   ],
   "source": [
    "%%bash\n",
    "cd \"../datasets/inaugural\"\n",
    "# wc 1789-Washington.txt\n",
    "# wc -c 1789-Washington.txt\n",
    "# wc -l 1789-Washington.txt\n",
    "# wc -w 1789-Washington.txt\n",
    "wc --help"
   ]
  },
  {
   "cell_type": "markdown",
   "metadata": {
    "slideshow": {
     "slide_type": "subslide"
    }
   },
   "source": [
    "# Zwischenaufgabe:\n",
    "\n",
    "1. Zählen sie die Wörter aller Reden\n",
    "    - Welcher Präsident war am \"gesprächigsten\"?\n",
    "    - Gibt es Ausreißer? Wie lassen sich diese Ausreißer erklären?\n",
    "    "
   ]
  },
  {
   "cell_type": "code",
   "execution_count": 9,
   "metadata": {
    "slideshow": {
     "slide_type": "skip"
    }
   },
   "outputs": [],
   "source": [
    "%%bash\n",
    "cd \"C:/Users/Philipp Steinweg/AppData/Roaming/nltk_data/corpora/inaugural\""
   ]
  },
  {
   "cell_type": "markdown",
   "metadata": {
    "slideshow": {
     "slide_type": "subslide"
    }
   },
   "source": [
    "# `sort` - Dateien/Ausgaben sortieren\n",
    "\n",
    "- `sort dateiname` sortiert Datei zeilenweise\n",
    "- standardmäßig wird aufsteigend lexikographisch sortiert\n",
    "    - a < b < ... z < A < B < .. Z\n",
    "    - 0 < 1 ... ! Fehler bei mehrziffrigen Zahlen, `-n` erzwingt numerische Sortierung\n",
    "- `man sort` bzw. `sort --help` für weitere Einstellungen"
   ]
  },
  {
   "cell_type": "markdown",
   "metadata": {
    "slideshow": {
     "slide_type": "subslide"
    }
   },
   "source": [
    "# `sort` - Dateien/Ausgaben sortieren"
   ]
  },
  {
   "cell_type": "code",
   "execution_count": 10,
   "metadata": {
    "scrolled": true,
    "slideshow": {
     "slide_type": "-"
    }
   },
   "outputs": [
    {
     "name": "stdout",
     "output_type": "stream",
     "text": [
      "0 summary.txt\n",
      "0 total\n",
      "0 zusammenfassung_washington.txt\n"
     ]
    }
   ],
   "source": [
    "%%bash\n",
    "cd \"../datasets/inaugural\"  \n",
    "wc -w *.txt | sort"
   ]
  },
  {
   "cell_type": "markdown",
   "metadata": {
    "slideshow": {
     "slide_type": "subslide"
    }
   },
   "source": [
    "# `grep` - Worte / Wortmuster suchen\n",
    "\n",
    "- `grep` ermöglicht die Suche von Wort bzw. Wortmustern in Dateien\n",
    "    - Ausgabe: Wort + umliegender Text\n",
    "    - Ähnlich zu: \"Strg+F\" im Browser\n",
    "- `grep -n` `grep -b` geben an wo sich Worte im Text befinden\n",
    "- `grep -c` zählt wie oft Wort im Text vorkommt\n",
    "- `grep --help`"
   ]
  },
  {
   "cell_type": "code",
   "execution_count": 11,
   "metadata": {
    "slideshow": {
     "slide_type": "fragment"
    }
   },
   "outputs": [
    {
     "name": "stdout",
     "output_type": "stream",
     "text": [
      "Usage: grep [OPTION]... PATTERN [FILE]...\n",
      "Search for PATTERN in each FILE or standard input.\n",
      "PATTERN is, by default, a basic regular expression (BRE).\n",
      "Example: grep -i 'hello world' menu.h main.c\n",
      "\n",
      "Regexp selection and interpretation:\n",
      "  -E, --extended-regexp     PATTERN is an extended regular expression (ERE)\n",
      "  -F, --fixed-strings       PATTERN is a set of newline-separated strings\n",
      "  -G, --basic-regexp        PATTERN is a basic regular expression (BRE)\n",
      "  -P, --perl-regexp         PATTERN is a Perl regular expression\n",
      "  -e, --regexp=PATTERN      use PATTERN for matching\n",
      "  -f, --file=FILE           obtain PATTERN from FILE\n",
      "  -i, --ignore-case         ignore case distinctions\n",
      "  -w, --word-regexp         force PATTERN to match only whole words\n",
      "  -x, --line-regexp         force PATTERN to match only whole lines\n",
      "  -z, --null-data           a data line ends in 0 byte, not newline\n",
      "\n",
      "Miscellaneous:\n",
      "  -s, --no-messages         suppress error messages\n",
      "  -v, --invert-match        select non-matching lines\n",
      "  -V, --version             display version information and exit\n",
      "      --help                display this help text and exit\n",
      "\n",
      "Output control:\n",
      "  -m, --max-count=NUM       stop after NUM matches\n",
      "  -b, --byte-offset         print the byte offset with output lines\n",
      "  -n, --line-number         print line number with output lines\n",
      "      --line-buffered       flush output on every line\n",
      "  -H, --with-filename       print the file name for each match\n",
      "  -h, --no-filename         suppress the file name prefix on output\n",
      "      --label=LABEL         use LABEL as the standard input file name prefix\n",
      "  -o, --only-matching       show only the part of a line matching PATTERN\n",
      "  -q, --quiet, --silent     suppress all normal output\n",
      "      --binary-files=TYPE   assume that binary files are TYPE;\n",
      "                            TYPE is 'binary', 'text', or 'without-match'\n",
      "  -a, --text                equivalent to --binary-files=text\n",
      "  -I                        equivalent to --binary-files=without-match\n",
      "  -d, --directories=ACTION  how to handle directories;\n",
      "                            ACTION is 'read', 'recurse', or 'skip'\n",
      "  -D, --devices=ACTION      how to handle devices, FIFOs and sockets;\n",
      "                            ACTION is 'read' or 'skip'\n",
      "  -r, --recursive           like --directories=recurse\n",
      "  -R, --dereference-recursive  likewise, but follow all symlinks\n",
      "      --include=FILE_PATTERN  search only files that match FILE_PATTERN\n",
      "      --exclude=FILE_PATTERN  skip files and directories matching FILE_PATTERN\n",
      "      --exclude-from=FILE   skip files matching any file pattern from FILE\n",
      "      --exclude-dir=PATTERN  directories that match PATTERN will be skipped.\n",
      "  -L, --files-without-match  print only names of FILEs containing no match\n",
      "  -l, --files-with-matches  print only names of FILEs containing matches\n",
      "  -c, --count               print only a count of matching lines per FILE\n",
      "  -T, --initial-tab         make tabs line up (if needed)\n",
      "  -Z, --null                print 0 byte after FILE name\n",
      "\n",
      "Context control:\n",
      "  -B, --before-context=NUM  print NUM lines of leading context\n",
      "  -A, --after-context=NUM   print NUM lines of trailing context\n",
      "  -C, --context=NUM         print NUM lines of output context\n",
      "  -NUM                      same as --context=NUM\n",
      "      --color[=WHEN],\n",
      "      --colour[=WHEN]       use markers to highlight the matching strings;\n",
      "                            WHEN is 'always', 'never', or 'auto'\n",
      "  -U, --binary              do not strip CR characters at EOL (MSDOS/Windows)\n",
      "  -u, --unix-byte-offsets   report offsets as if CRs were not there\n",
      "                            (MSDOS/Windows)\n",
      "\n",
      "'egrep' means 'grep -E'.  'fgrep' means 'grep -F'.\n",
      "Direct invocation as either 'egrep' or 'fgrep' is deprecated.\n",
      "When FILE is -, read standard input.  With no FILE, read . if a command-line\n",
      "-r is given, - otherwise.  If fewer than two FILEs are given, assume -h.\n",
      "Exit status is 0 if any line is selected, 1 otherwise;\n",
      "if any error occurs and -q is not given, the exit status is 2.\n",
      "\n",
      "Report bugs to: bug-grep@gnu.org\n",
      "GNU grep home page: <http://www.gnu.org/software/grep/>\n",
      "General help using GNU software: <http://www.gnu.org/gethelp/>\n"
     ]
    }
   ],
   "source": [
    "%%bash\n",
    "cd \"../datasets/inaugural\"\n",
    "#grep \"war\" *.txt\n",
    "#grep -n \"war\" *.txt\n",
    "#grep -c \"war\" *.txt\n",
    "grep --help"
   ]
  },
  {
   "cell_type": "markdown",
   "metadata": {
    "slideshow": {
     "slide_type": "subslide"
    }
   },
   "source": [
    "# Zwischenaufgabe\n",
    "\n",
    "1.Schauen sie, wie oft bestimmte Keywords in den einzelnen Reden vorkommen\n",
    "- Interessante Keywords: terror, war, freedom, citizen ..\n",
    "\n",
    "2.Sortieren sie die Aufgabe - verwenden sie hierfür `sort -t: -k2nr`"
   ]
  },
  {
   "cell_type": "code",
   "execution_count": 20,
   "metadata": {
    "slideshow": {
     "slide_type": "fragment"
    }
   },
   "outputs": [
    {
     "name": "stdout",
     "output_type": "stream",
     "text": [
      "summary.txt:0\n",
      "zusammenfassung_washington.txt:0\n"
     ]
    }
   ],
   "source": [
    "%%bash\n",
    "cd ../datasets/inaugural\n",
    "grep -c \" terror \" *.txt | sort -t: -k2nr"
   ]
  },
  {
   "cell_type": "markdown",
   "metadata": {
    "slideshow": {
     "slide_type": "subslide"
    }
   },
   "source": [
    "# Ein komplexeres Beispiel - Worthäufigkeiten\n",
    "Als abschließendes Beispiel wollen wir einmal die Worthäufigkeiten in allen Reden erfassen\n"
   ]
  },
  {
   "cell_type": "code",
   "execution_count": 22,
   "metadata": {
    "slideshow": {
     "slide_type": "subslide"
    }
   },
   "outputs": [],
   "source": [
    "%%bash\n",
    "cd ../datasets/inaugural\n",
    "export LC_ALL='C'\n",
    "cat *.txt | tr \" \" \"\\n\" | sort -b | uniq -c | sort -nr"
   ]
  },
  {
   "cell_type": "markdown",
   "metadata": {
    "slideshow": {
     "slide_type": "fragment"
    }
   },
   "source": [
    "# Funktionsweise\n",
    "1. Fügt alle Texte zu einem großen Text zusammen - `cat *.txt |` \n",
    "2. Schreibe so um, dass jedes Wort in einer neuen Zeile steht - `tr \" \" \"\\n\" |` \n",
    "3. Sortiere diese Ausgabe - `sort |`\n",
    "4. Fasse gleiche Zeilen zusammen und zähle `uniq -c |`\n",
    "5. Sortiere diese Ausgabe wieder , numerisch und absteigend `sort -nr`"
   ]
  },
  {
   "cell_type": "markdown",
   "metadata": {
    "slideshow": {
     "slide_type": "slide"
    }
   },
   "source": [
    "# Mit PDFs arbeiten\n",
    "\n",
    "Das Kommandozeilentool `pdftotext` ermöglicht es, PDF-Dateien in Text umzuwandeln\n",
    " - Funktioniert nur falls \"wirklicher\" Text im PDF vorhanden ist\n",
    " - Funktioniert nicht bei sog. Faksimile , d.h. zB. Bilder auf denen Text steht\n",
    " - Befehl: `pdftotext Dateiname`"
   ]
  },
  {
   "cell_type": "code",
   "execution_count": 14,
   "metadata": {},
   "outputs": [],
   "source": [
    "%%bash\n",
    "cd ../pdf\n",
    "#ls\n",
    "#pdftotext bitcoin-whitepaper.pdf"
   ]
  },
  {
   "cell_type": "markdown",
   "metadata": {
    "slideshow": {
     "slide_type": "subslide"
    }
   },
   "source": [
    "# Aufgabe\n",
    "\n",
    "1. Wandeln sie das im Ordner `pdf` hinterlegte Bitcoin-Whitepaper in eine Textdatei um\n",
    "2. Nutzen sie `head` um eine Übersicht über die Datei zu bekommen\n",
    "3. Nutzen sie `grep` und schauen sie\n",
    "    - wie oft typische Buzzwords wie *Blockchain* , *Crypto* oder *Bitcoin* im Text auftauchen\n",
    "    - welche Worte für die technische Beschreibung genutzt werden\n",
    "    \n",
    "    "
   ]
  },
  {
   "cell_type": "markdown",
   "metadata": {
    "slideshow": {
     "slide_type": "slide"
    }
   },
   "source": [
    "# Fazit\n",
    "\n",
    "- Kommandozeile bringt mächtige Tools mit - Nutzen sie sie!\n",
    "- textuelles Arbeiten: anfangs sperrig, sobald gelernt: angenehm/nützlich\n",
    "- Auch Alltags-Software bringt Textkommandos mit\n",
    "    - zB. Google: `define: Automat` oder `site:wikipedia.org`\n",
    "    \n",
    "    <a href=\"https://www.google.de/search?q=define:+Automat&ie=utf-8&oe=utf-8&client=firefox-b-ab&gws_rd=cr&dcr=0&ei=7qmqWunLDcewkwX4mICYBw\">define:Automat</a>\n",
    "    \n",
    "    [site:wikipedia.org](https://www.google.de/search?safe=off&client=firefox-b-ab&dcr=0&ei=GaqqWvKJIo_VkwWpzZroDg&q=Commerzbank+site%3Awikipedia.org&oq=Commerzbank+site%3Awikipedia.org&gs_l=psy-ab.3...15794.20526.0.20718.31.30.0.0.0.0.180.2690.19j10.30.0..2..0...1.1.64.psy-ab..1.17.1768.6..0j35i39k1j0i131k1j0i67k1j0i22i30k1.102.9gWM-cBRdLY)\n",
    "    \n",
    "    \n"
   ]
  },
  {
   "cell_type": "markdown",
   "metadata": {
    "slideshow": {
     "slide_type": "notes"
    }
   },
   "source": [
    "# Befehlsübersicht"
   ]
  }
 ],
 "metadata": {
  "celltoolbar": "Slideshow",
  "kernelspec": {
   "display_name": "Python 3",
   "language": "python",
   "name": "python3"
  },
  "language_info": {
   "codemirror_mode": {
    "name": "ipython",
    "version": 3
   },
   "file_extension": ".py",
   "mimetype": "text/x-python",
   "name": "python",
   "nbconvert_exporter": "python",
   "pygments_lexer": "ipython3",
   "version": "3.6.1"
  },
  "livereveal": {
   "scroll": true,
   "slideNumber": "c/t",
   "theme": "serif"
  }
 },
 "nbformat": 4,
 "nbformat_minor": 2
}
