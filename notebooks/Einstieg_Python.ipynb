{
 "cells": [
  {
   "cell_type": "markdown",
   "metadata": {
    "slideshow": {
     "slide_type": "slide"
    }
   },
   "source": [
    "# Einstieg in Python\n",
    "Operatoren, Variablen, Kontrollstrukturen, Funktionen, Listen"
   ]
  },
  {
   "cell_type": "markdown",
   "metadata": {
    "slideshow": {
     "slide_type": "subslide"
    }
   },
   "source": [
    "# Was ist Python?\n",
    "\n",
    "- moderne Skriptsprache\n",
    "- plattformunabhängig\n",
    "- weit verbreitet und quasi überall im Einsatz"
   ]
  },
  {
   "cell_type": "markdown",
   "metadata": {
    "slideshow": {
     "slide_type": "subslide"
    }
   },
   "source": [
    "# Warum Python lernen?\n",
    " \n",
    "- Einfach zu lesen und lernen\n",
    ">Python is powerful... and fast;\n",
    ">plays well with others;\n",
    ">runs everywhere;\n",
    ">is friendly & easy to learn;\n",
    ">is Open. \n",
    "- Fokus auf \"schnellen\" Ergebnissen\n",
    "- Große Sammlung an Zusatzbibliotheken für alle denkbaren Anwendungsbereiche\n",
    "- Buchempfehlung:[** *Automate the boring Stuff with Python* **](http://automatetheboringstuff.com)"
   ]
  },
  {
   "cell_type": "markdown",
   "metadata": {
    "slideshow": {
     "slide_type": "subslide"
    }
   },
   "source": [
    "# Zum Vergleich: \"Hello World\"\n",
    "\n",
    "**In Java:**    \n",
    "``` java\n",
    "public class HelloWorld {\n",
    "\n",
    "public static void main(String[] args){\n",
    "System.out.println(\"Hello World!\");\n",
    "}\n",
    "}\n",
    "```\n",
    "\n",
    "\n",
    "**In Python:**\n",
    "    \n",
    "``` python\n",
    "\n",
    "print(\"Hello World!\")\n",
    "\n",
    "```"
   ]
  },
  {
   "cell_type": "markdown",
   "metadata": {
    "slideshow": {
     "slide_type": "slide"
    }
   },
   "source": [
    "# Zahlen & Operatoren - Python als Taschenrechner"
   ]
  },
  {
   "cell_type": "markdown",
   "metadata": {
    "slideshow": {
     "slide_type": "subslide"
    }
   },
   "source": [
    "- Python unterteilt in: Ganzzahlen (`integer`) und Fließkommazahlen (`float`)\n",
    "- klassiche Rechenoperatoren: `+` `-` `*` `/` `//` `%`\n",
    "- Vergleichsoperatoren: `<` `<=` `==` `>=` `>` `!=`\n",
    "- \"Komplexeres\" Rechnen über Zusatzbibliotheken etwa `import math` oder `import numpy`\n"
   ]
  },
  {
   "cell_type": "code",
   "execution_count": null,
   "metadata": {
    "slideshow": {
     "slide_type": "fragment"
    }
   },
   "outputs": [],
   "source": [
    "type(3)"
   ]
  },
  {
   "cell_type": "markdown",
   "metadata": {
    "slideshow": {
     "slide_type": "slide"
    }
   },
   "source": [
    "# Strings - Arbeiten mit Text\n",
    "\n",
    "- Strings sind Zeichenketten wie etwa `\"Hello World!\"`\n",
    "- Python bietet **Funktionen** um etwa:\n",
    "    - Textinformationen zu erhalten zB. : `isalnum()` , `istitle()` , `count()`\n",
    "    - Text zu bearbeiten/manipulieren: `lower()` `strip()` `replace(\"o\",\"i\")`\n",
    "- <div style=\"font-size:60px;\"><b>Tipp: Druck auf TAB zeigt mögliche Methoden</b></div>"
   ]
  },
  {
   "cell_type": "code",
   "execution_count": null,
   "metadata": {},
   "outputs": [],
   "source": [
    "\"    Hello World    \".count(\"ll\")"
   ]
  },
  {
   "cell_type": "markdown",
   "metadata": {
    "slideshow": {
     "slide_type": "slide"
    }
   },
   "source": [
    "# Funktionen - Bitte mach was!\n",
    "\n",
    "- ähnlich wie in der Mathematik: Eingabe -> (Ausgabe)\n",
    "- built-in Funktionen wie `min()` , `max()`, `type()`\n",
    "- `print()` gibt etwas auf der Konsole aus\n",
    "- `input()` nimmt Benutzereingabe entgegen\n",
    "- Strings, Zahlen, spätere Klassen die wir kennenlernen stellen eigene Funktionen\n"
   ]
  },
  {
   "cell_type": "code",
   "execution_count": 1,
   "metadata": {
    "slideshow": {
     "slide_type": "fragment"
    }
   },
   "outputs": [
    {
     "data": {
      "text/plain": [
       "13"
      ]
     },
     "execution_count": 1,
     "metadata": {},
     "output_type": "execute_result"
    }
   ],
   "source": [
    "#text = input(\"Bitte etwas eingeben \")\n",
    "#print(text)\n",
    "max(1,9,2,4,13,8,6)"
   ]
  },
  {
   "cell_type": "markdown",
   "metadata": {
    "slideshow": {
     "slide_type": "subslide"
    }
   },
   "source": [
    "# Zwischenaufgaben\n",
    "\n",
    "1. Schreiben sie ein Programm, dass:\n",
    "    - Den Benutzer nach seinem Namen und Alter fragt\n",
    "    - Den Namen + das Alter in Sekunden wieder ausgibt"
   ]
  },
  {
   "cell_type": "markdown",
   "metadata": {
    "slideshow": {
     "slide_type": "slide"
    }
   },
   "source": [
    "# Kontrollstrukturen - Programmablauf steuern\n",
    "- Kontrollstrukturen steuern, in welcher Reihenfolge Code läuft\n",
    "    - *Wenn der Benutzer einen Knopf drückt, mache ..* \n",
    "    \n",
    "    -> **Bedingungen** `if` `elif` `else`\n",
    "    - *Wiederhole 100x mal* oder *Für jeden Benutzer mache folgendes..*  \n",
    "    -> **Schleifen** : `for` `while`\n"
   ]
  },
  {
   "cell_type": "code",
   "execution_count": 4,
   "metadata": {
    "slideshow": {
     "slide_type": "fragment"
    }
   },
   "outputs": [
    {
     "name": "stdout",
     "output_type": "stream",
     "text": [
      "Lausxux"
     ]
    }
   ],
   "source": [
    "beispielwort = \"Lausbub\"  \n",
    "for buchstabe in beispielwort:\n",
    "    if(buchstabe == 'b'):\n",
    "        print(\"x\", end='')\n",
    "    else:\n",
    "        print(buchstabe, end=\"\")"
   ]
  },
  {
   "cell_type": "markdown",
   "metadata": {
    "slideshow": {
     "slide_type": "slide"
    }
   },
   "source": [
    "# Listen - Daten strukturiert ablegen\n",
    "\n",
    "- Listen dienen dazu Datenmengen strukturiert abzulegen ~vgl. Exceltabelle\n",
    "- Listen werden mit \\[ \\] erzeugt, Elemente werden mit Komma getrennt\n",
    "    - `freunde = ['anna', 'bill', 'claude']`\n",
    "    "
   ]
  },
  {
   "cell_type": "code",
   "execution_count": 1,
   "metadata": {
    "slideshow": {
     "slide_type": "fragment"
    }
   },
   "outputs": [
    {
     "name": "stdout",
     "output_type": "stream",
     "text": [
      "['anna', 'bill', 'claude']\n"
     ]
    }
   ],
   "source": [
    "freunde = ['anna', 'bill', 'claude']\n",
    "print(freunde)"
   ]
  },
  {
   "cell_type": "markdown",
   "metadata": {
    "slideshow": {
     "slide_type": "subslide"
    }
   },
   "source": [
    "# Listen anlegen\n",
    "\n",
    "1. Liste manuell\n",
    "    - `list_numbers = [1,2,3,4,5,6,7,8,9,10]`\n",
    "\n",
    "2. Liste mit einer Schleife und `append()` anlegen\n",
    "   \n",
    "   ``` \n",
    "    list_numbers = []\n",
    "    for number in range(1,11):\n",
    "        list_numbers.append(number)\n",
    "   ```\n",
    "\n",
    "3. Liste mittels List Comprehension anlegen\n",
    "\n",
    "   ` list_numbers = [number for number in range(1,11)]`"
   ]
  },
  {
   "cell_type": "code",
   "execution_count": 8,
   "metadata": {
    "slideshow": {
     "slide_type": "subslide"
    }
   },
   "outputs": [
    {
     "name": "stdout",
     "output_type": "stream",
     "text": [
      "[1, 2, 3, 4, 5, 6, 7, 8, 9, 10]\n"
     ]
    }
   ],
   "source": [
    "list_numbers = [1,2,3,4,5,6,7,8,9,10]\n",
    "print(numbers)"
   ]
  },
  {
   "cell_type": "code",
   "execution_count": 2,
   "metadata": {
    "slideshow": {
     "slide_type": "fragment"
    }
   },
   "outputs": [
    {
     "name": "stdout",
     "output_type": "stream",
     "text": [
      "[1, 2, 3, 4, 5, 6, 7, 8, 9, 10, 11, 12, 13, 14, 15, 16, 17, 18, 19, 20, 21, 22, 23, 24, 25, 26, 27, 28, 29, 30, 31, 32, 33, 34, 35, 36, 37, 38, 39, 40, 41, 42, 43, 44, 45, 46, 47, 48, 49, 50, 51, 52, 53, 54, 55, 56, 57, 58, 59, 60, 61, 62, 63, 64, 65, 66, 67, 68, 69, 70, 71, 72, 73, 74, 75, 76, 77, 78, 79, 80, 81, 82, 83, 84, 85, 86, 87, 88, 89, 90, 91, 92, 93, 94, 95, 96, 97, 98, 99, 100]\n"
     ]
    }
   ],
   "source": [
    "list_numbers = []\n",
    "for number in range(1,1001):\n",
    "    list_numbers.append(number)\n",
    "print(list_numbers[0:100])\n",
    " "
   ]
  },
  {
   "cell_type": "code",
   "execution_count": 2,
   "metadata": {
    "slideshow": {
     "slide_type": "fragment"
    }
   },
   "outputs": [
    {
     "name": "stdout",
     "output_type": "stream",
     "text": [
      "[0, 1, 4, 9, 16, 25, 36, 49, 64, 81, 100, 121, 144, 169, 196, 225, 256, 289, 324, 361, 400, 441, 484, 529, 576, 625, 676, 729, 784, 841, 900, 961, 1024, 1089, 1156, 1225, 1296, 1369, 1444, 1521, 1600, 1681, 1764, 1849, 1936, 2025, 2116, 2209, 2304, 2401, 2500, 2601, 2704, 2809, 2916, 3025, 3136, 3249, 3364, 3481, 3600, 3721, 3844, 3969, 4096, 4225, 4356, 4489, 4624, 4761, 4900, 5041, 5184, 5329, 5476, 5625, 5776, 5929, 6084, 6241, 6400, 6561, 6724, 6889, 7056, 7225, 7396, 7569, 7744, 7921, 8100, 8281, 8464, 8649, 8836, 9025, 9216, 9409, 9604, 9801, 10000]\n"
     ]
    }
   ],
   "source": [
    "quadratzahlen = [i*i for i in range(101)]\n",
    "print(quadratzahlen)"
   ]
  },
  {
   "cell_type": "markdown",
   "metadata": {
    "slideshow": {
     "slide_type": "slide"
    }
   },
   "source": [
    "# Übungsaufgaben:\n",
    "\n",
    "1. Erzeugen sie eine Liste aller ungeraden Zahlen von 1-20:\n",
    "    - manuell\n",
    "    - per Schleife\n",
    "    - List Comprehension\n"
   ]
  },
  {
   "cell_type": "code",
   "execution_count": 19,
   "metadata": {
    "slideshow": {
     "slide_type": "skip"
    }
   },
   "outputs": [
    {
     "name": "stdout",
     "output_type": "stream",
     "text": [
      "[9, 36, 81, 144, 225, 324, 441, 576, 729, 900, 1089, 1296, 1521, 1764, 2025, 2304, 2601, 2916, 3249, 3600, 3969, 4356, 4761, 5184, 5625, 6084, 6561, 7056, 7569, 8100, 8649, 9216, 9801]\n"
     ]
    }
   ],
   "source": [
    "numbers = []\n",
    "\n",
    "for number in range(1,101):\n",
    "    if(number%3 == 0):\n",
    "        numbers.append(number*number)\n",
    "\n",
    "    \n",
    "print(numbers)\n",
    "        "
   ]
  }
 ],
 "metadata": {
  "celltoolbar": "Slideshow",
  "kernelspec": {
   "display_name": "Python 3",
   "language": "python",
   "name": "python3"
  },
  "language_info": {
   "codemirror_mode": {
    "name": "ipython",
    "version": 3
   },
   "file_extension": ".py",
   "mimetype": "text/x-python",
   "name": "python",
   "nbconvert_exporter": "python",
   "pygments_lexer": "ipython3",
   "version": "3.6.1"
  },
  "livereveal": {
   "scroll": true,
   "slideNumber": "c/t",
   "theme": "serif"
  }
 },
 "nbformat": 4,
 "nbformat_minor": 2
}
